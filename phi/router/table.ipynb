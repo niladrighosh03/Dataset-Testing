{
 "cells": [
  {
   "cell_type": "code",
   "execution_count": 47,
   "id": "6db0054b",
   "metadata": {},
   "outputs": [
    {
     "name": "stdout",
     "output_type": "stream",
     "text": [
      "[1, 3, 5, 7, 9, 11, 13, 15, 17, 19, 21, 23, 25, 27, 29, 31, 33, 35, 37, 39, 41, 43, 45, 47, 49, 51, 53, 55, 57, 59, 61, 63, 65, 67, 69, 71, 73, 75, 77, 79, 81, 83, 85, 87, 89, 91, 93, 95, 97, 99, 101, 103, 105, 107, 109, 111, 113, 115, 117, 119, 121, 123, 125, 127, 129, 131, 133, 135, 137, 139, 141, 143, 145, 147, 149, 151, 153, 155, 157, 159, 161, 163, 165, 167, 169, 171, 173, 175, 177, 179, 181, 183, 185, 187, 189, 191, 193, 195, 197, 199, 201, 203, 205, 207, 209, 211, 213, 215, 217, 219, 221, 223, 225, 227, 229, 231, 233, 235, 237, 239, 241, 243]\n"
     ]
    }
   ],
   "source": [
    "import pandas as pd\n",
    "\n",
    "# Load the original CSV file\n",
    "df = pd.read_csv(\"/home/rohank__iitp/Work/niladri/phi/conversation.csv\")  # replace with actual path if not in current directory\n",
    "\n",
    "# Prepare variables\n",
    "output_rows = []\n",
    "agent_responses = []\n",
    "\n",
    "# Temporary variables to track user query and agent reply\n",
    "current_user_query = None\n",
    "current_conversation_id = None\n",
    "record_id = 1\n",
    "\n",
    "for index, row in df.iterrows():\n",
    "    if row['speaker'] == 'User':\n",
    "        agent_responses.append(row['id'])\n",
    "        if current_user_query is not None:\n",
    "            # Save previous user query without agent reply\n",
    "            output_rows.append({\n",
    "                'id': record_id,\n",
    "                'conversation_id': current_conversation_id,\n",
    "                'user_query': current_user_query,\n",
    "                'agent_reply': ''\n",
    "            })\n",
    "            record_id += 1\n",
    "        # Start new user query\n",
    "        current_user_query = row['utterance']\n",
    "        current_conversation_id = row['conversation_id']\n",
    "    elif row['speaker'] == 'Agent':\n",
    "        \n",
    "        if current_user_query is not None:\n",
    "            \n",
    "            # Save user query and agent reply\n",
    "            output_rows.append({\n",
    "                'id': record_id,\n",
    "                'conversation_id': current_conversation_id,\n",
    "                'user_query': current_user_query,\n",
    "                'agent_reply': row['utterance']\n",
    "            })\n",
    "            record_id += 1\n",
    "            current_user_query = None  # Reset after pairing\n",
    "\n",
    "# If last entry is a user query without an agent reply\n",
    "if current_user_query is not None:\n",
    "    output_rows.append({\n",
    "        'id': record_id,\n",
    "        'conversation_id': current_conversation_id,\n",
    "        'user_query': current_user_query,\n",
    "        'agent_reply': ''\n",
    "    })\n",
    "\n",
    "# Convert to DataFrame\n",
    "output_df = pd.DataFrame(output_rows)\n",
    "\n",
    "# Save to CSV\n",
    "output_df.to_csv(\"/home/rohank__iitp/Work/niladri/phi/router/table_router.csv\", index=False)\n",
    "\n",
    "# Print or return list of agent responses\n",
    "print(agent_responses)\n"
   ]
  },
  {
   "cell_type": "code",
   "execution_count": 48,
   "id": "1e576013",
   "metadata": {},
   "outputs": [
    {
     "data": {
      "text/plain": [
       "122"
      ]
     },
     "execution_count": 48,
     "metadata": {},
     "output_type": "execute_result"
    }
   ],
   "source": [
    "len(agent_responses)"
   ]
  },
  {
   "cell_type": "code",
   "execution_count": 49,
   "id": "7c77648f",
   "metadata": {},
   "outputs": [],
   "source": [
    "import pandas as pd\n",
    "import json\n",
    "\n",
    "df=pd.read_csv(\"/home/rohank__iitp/Work/niladri/phi/router/table_router.csv\")  # replace with actual path if not in current directory\n",
    "# Output list for matching answers\n",
    "matching_answers = []\n",
    "\n",
    "# Read and process the JSONL file\n",
    "with open('/home/rohank__iitp/Work/niladri/phi/router/cleaned_output.jsonl', 'r') as f:\n",
    "    for line in f:\n",
    "        data = json.loads(line)\n",
    "        # if data.get('id_json') in agent_responses:\n",
    "        matching_answers.append(data.get('answer'))\n",
    "\n",
    "df[\"router agent response\"]= matching_answers\n",
    "df.to_csv(\"/home/rohank__iitp/Work/niladri/phi/router/table_router.csv\", index=False)"
   ]
  },
  {
   "cell_type": "code",
   "execution_count": 6,
   "id": "f14cc070",
   "metadata": {},
   "outputs": [],
   "source": [
    "import sys\n",
    "sys.path.append('/DATA/rohan_kirti/.local/lib/python3.8/site-packages')"
   ]
  },
  {
   "cell_type": "code",
   "execution_count": 50,
   "id": "594623be",
   "metadata": {},
   "outputs": [],
   "source": [
    "import pandas as pd\n",
    "from rouge_score import rouge_scorer\n",
    "\n",
    "# Load CSV\n",
    "df = pd.read_csv(\"/home/rohank__iitp/Work/niladri/phi/router/table_router.csv\")  # Replace with your actual file path\n",
    "\n",
    "# Initialize ROUGE scorer\n",
    "scorer = rouge_scorer.RougeScorer(['rouge1'], use_stemmer=True)\n",
    "\n",
    "# Compute ROUGE scores\n",
    "def compute_rouge(row):\n",
    "    scores = scorer.score(row['router agent response'], row['agent_reply'])\n",
    "    return scores['rouge1'].fmeasure  # You can also use .precision or .recall\n",
    "\n",
    "# Apply ROUGE calculation\n",
    "df['rouge'] = df.apply(compute_rouge, axis=1)\n",
    "\n",
    "# Save the updated DataFrame\n",
    "df.to_csv(\"/home/rohank__iitp/Work/niladri/phi/router/table_router.csv\", index=False)"
   ]
  }
 ],
 "metadata": {
  "kernelspec": {
   "display_name": "Python 3 (ipykernel)",
   "language": "python",
   "name": "python3"
  },
  "language_info": {
   "codemirror_mode": {
    "name": "ipython",
    "version": 3
   },
   "file_extension": ".py",
   "mimetype": "text/x-python",
   "name": "python",
   "nbconvert_exporter": "python",
   "pygments_lexer": "ipython3",
   "version": "3.12.2"
  }
 },
 "nbformat": 4,
 "nbformat_minor": 5
}
