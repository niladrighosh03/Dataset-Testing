{
 "cells": [
  {
   "cell_type": "code",
   "execution_count": 1,
   "id": "e7fc676e",
   "metadata": {},
   "outputs": [
    {
     "name": "stdout",
     "output_type": "stream",
     "text": [
      "h\n"
     ]
    }
   ],
   "source": [
    "print(\"h\")"
   ]
  },
  {
   "cell_type": "code",
   "execution_count": 2,
   "id": "7bb0a791",
   "metadata": {},
   "outputs": [
    {
     "name": "stdout",
     "output_type": "stream",
     "text": [
      "Loading KrutrimCloud model...\n"
     ]
    }
   ],
   "source": [
    "# %%\n",
    "print(\"Loading KrutrimCloud model...\")\n",
    "from krutrim_cloud import KrutrimCloud\n",
    "from dotenv import load_dotenv\n",
    "import pandas as pd\n",
    "import time\n",
    "import os\n",
    "from datetime import datetime\n",
    "\n",
    "# %%\n",
    "load_dotenv()\n",
    "api_key = os.getenv(\"KRUTRIM_API_KEY\")\n",
    "client = KrutrimCloud(api_key=api_key)\n"
   ]
  },
  {
   "cell_type": "code",
   "execution_count": 3,
   "id": "5cac36f0",
   "metadata": {},
   "outputs": [
    {
     "name": "stdout",
     "output_type": "stream",
     "text": [
      "Calculating perplexity for model 'Qwen3-32B'...\n",
      "Perplexity: 1.000000238418579\n"
     ]
    }
   ],
   "source": [
    "import math\n",
    "import numpy as np\n",
    "def calculate_perplexity(text: str) -> float | None:\n",
    "    model_name = \"Qwen3-32B\"\n",
    "    client = KrutrimCloud(api_key=api_key)\n",
    "\n",
    "    print(f\"Calculating perplexity for model '{model_name}'...\")\n",
    "\n",
    "    response = client.chat.completions.create(\n",
    "        model=model_name,\n",
    "        messages=[{\"role\": \"user\", \"content\": text}],\n",
    "        max_tokens=1,\n",
    "        logprobs=True,\n",
    "        temperature=0.0,\n",
    "    )\n",
    "\n",
    "    logprobs_dict = response.choices[0].logprobs\n",
    "\n",
    "    if not logprobs_dict or 'content' not in logprobs_dict:\n",
    "        print(\"Error: Log probabilities content was not returned in the API response.\")\n",
    "        return None\n",
    "\n",
    "    logprobs_content = logprobs_dict['content']\n",
    "\n",
    "    log_probs = [token_info['logprob'] for token_info in logprobs_content]\n",
    "\n",
    "    if log_probs and log_probs[0] == 0.0:\n",
    "        log_probs = log_probs[1:]\n",
    "\n",
    "    if not log_probs:\n",
    "        print(\"Error: No valid log probabilities found to calculate perplexity.\")\n",
    "        return None\n",
    "\n",
    "    mean_log_prob = np.mean(log_probs)\n",
    "    perplexity = np.exp(-mean_log_prob)\n",
    "\n",
    "    return perplexity\n",
    "\n",
    "\n",
    "\n",
    "text = \"Wonderful! I'm thrilled to help you get started with a comprehensive motor insurance policy for your Royal Enfield Classic 350, complete with roadside assistance. You'll have the convenience of managing your policy online, making it easy to access policy details, make payments, and even file claims when needed. Let's proceed with setting up your policy today.\"\n",
    "perplexity = calculate_perplexity(text)\n",
    "print(\"Perplexity:\", perplexity)"
   ]
  }
 ],
 "metadata": {
  "kernelspec": {
   "display_name": "rohan12",
   "language": "python",
   "name": "python3"
  },
  "language_info": {
   "codemirror_mode": {
    "name": "ipython",
    "version": 3
   },
   "file_extension": ".py",
   "mimetype": "text/x-python",
   "name": "python",
   "nbconvert_exporter": "python",
   "pygments_lexer": "ipython3",
   "version": "3.12.2"
  }
 },
 "nbformat": 4,
 "nbformat_minor": 5
}
