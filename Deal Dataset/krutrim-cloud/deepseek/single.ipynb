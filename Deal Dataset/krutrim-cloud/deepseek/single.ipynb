{
 "cells": [
  {
   "cell_type": "code",
   "execution_count": 8,
   "id": "a9ae2988",
   "metadata": {},
   "outputs": [
    {
     "name": "stdout",
     "output_type": "stream",
     "text": [
      "Loading KrutrimCloud model...\n"
     ]
    }
   ],
   "source": [
    "print(\"Loading KrutrimCloud model...\")\n",
    "from krutrim_cloud import KrutrimCloud\n",
    "from dotenv import load_dotenv\n",
    "import pandas as pd\n",
    "import time\n",
    "import os\n",
    "from datetime import datetime"
   ]
  },
  {
   "cell_type": "code",
   "execution_count": 9,
   "id": "1f79b3e1",
   "metadata": {},
   "outputs": [],
   "source": [
    "load_dotenv()\n",
    "api_key = os.getenv(\"KRUTRIM_API_KEY\")\n",
    "client = KrutrimCloud(api_key=api_key)"
   ]
  },
  {
   "cell_type": "code",
   "execution_count": 15,
   "id": "afcf9912",
   "metadata": {},
   "outputs": [],
   "source": [
    "def generate(prompt: str) -> str:\n",
    "    messages = [\n",
    "        {\"role\": \"system\", \"content\": \"You are a helpful and concise travel agent assistant.\"},\n",
    "        {\"role\": \"user\", \"content\": prompt}\n",
    "    ]\n",
    "\n",
    "    for attempt in range(3):\n",
    "        try:\n",
    "            response = client.chat.completions.create(\n",
    "                model=\"Qwen3-32B\",\n",
    "                messages=messages\n",
    "            )\n",
    "            return response.choices[0].message.content.strip()\n",
    "        except Exception as e:\n",
    "            print(f\"Attempt {attempt+1} failed. Error: {e}\")\n",
    "            time.sleep(2)\n",
    "    \n",
    "    print(\"Skipping after multiple failures.\")\n",
    "    return None\n",
    "\n",
    "\n",
    "def model_response(dialogue: str) -> str:\n",
    "    prompt = f\"\"\"\n",
    "Instruction:\n",
    "Continue the conversation as the Travel agent. Respond appropriately to the latest user message. \n",
    "And please be brief.\n",
    "\n",
    "Give the reply for this query: {dialogue}\n",
    "\"\"\"\n",
    "    return generate(prompt)\n"
   ]
  },
  {
   "cell_type": "code",
   "execution_count": 16,
   "id": "96673c44",
   "metadata": {},
   "outputs": [
    {
     "data": {
      "text/plain": [
       "\"Could you clarify if you're referring to a motorcycle, motorhome, or another type of motor vehicle? Also, share your travel preferences (e.g., road trips, scenic routes, adventure) and destination for tailored suggestions.\""
      ]
     },
     "execution_count": 16,
     "metadata": {},
     "output_type": "execute_result"
    }
   ],
   "source": [
    "model_response(\"What are the best travel plans for motor?\")  # Example usage"
   ]
  },
  {
   "cell_type": "code",
   "execution_count": null,
   "metadata": {},
   "outputs": [],
   "source": [
    "def create_dataset():\n",
    "    df = pd.read_csv('/home/rohank__iitp/Work/niladri/Deal Dataset/deal dataset.csv')\n",
    "\n",
    "    if not df.empty:\n",
    "        output_filename = '/home/rohank__iitp/Work/niladri/Deal Dataset/krutrim-cloud/qween/qween_single_dataset.csv'\n",
    "        header_written = False\n",
    "\n",
    "        grouped = df.groupby('conversation_id')\n",
    "\n",
    "        for conversation_id, group in grouped:\n",
    "            print(f\"\\nProcessing Conversation ID: {conversation_id}\")\n",
    "            group = group.sort_values('turn_no')\n",
    "            conversation_history = \"\"\n",
    "            processed_rows = []\n",
    "\n",
    "            for index, row in group.iterrows():\n",
    "                sentence = \"Conversation History:\\n\" + conversation_history + \"Current Utterance: \" + f\"User: {row['utterance']}\\nAgent:\"\n",
    "\n",
    "                print(\"========================================================================================================================================\")\n",
    "                print(f\"Generating for conv_id: {row['conversation_id']}, turn: {row['turn_no']}\\nPROMPT:\\n{sentence}\")\n",
    "                print(\"========================================================================================================================================\")\n",
    "                \n",
    "                # ⬇️ Krutrim model response\n",
    "                krutrim_response = model_response(sentence)\n",
    "\n",
    "                current_row_data = row.to_dict()\n",
    "                current_row_data['Krutrim Single Response'] = krutrim_response\n",
    "                processed_rows.append(current_row_data)\n",
    "\n",
    "                # Update conversation history using actual agent reply\n",
    "                conversation_history += f\"User: {row['utterance']}\\nAgent: {row['new_agent_reply']}\\n\"\n",
    "\n",
    "            processed_group_df = pd.DataFrame(processed_rows)\n",
    "\n",
    "            if not header_written:\n",
    "                processed_group_df.to_csv(output_filename, index=False, mode='w')\n",
    "                header_written = True\n",
    "            else:\n",
    "                processed_group_df.to_csv(output_filename, index=False, mode='a', header=False)\n",
    "\n",
    "            print(f\"Conversation ID {conversation_id} has been processed and saved.\")\n",
    "\n",
    "        print(f\"\\n✅ All conversations processed and saved to '{output_filename}'\")\n",
    "\n",
    "    else:\n",
    "        print(\"\\nDataFrame is empty. Nothing to process.\")\n",
    "\n",
    "# %%\n",
    "print(\"Starting dataset creation...\")\n",
    "start_time = datetime.now()\n",
    "print(\"Started at--->\", start_time.strftime('%Y-%m-%d %H:%M:%S'))\n",
    "\n",
    "create_dataset()\n",
    "\n",
    "end_time = datetime.now()\n",
    "print(\"Finished at--->\", end_time.strftime('%Y-%m-%d %H:%M:%S'))\n",
    "print(f\"✅ Completed in {end_time - start_time} seconds\")"
   ]
  },
  {
   "cell_type": "code",
   "execution_count": null,
   "id": "a7133a27",
   "metadata": {},
   "outputs": [],
   "source": [
    "from datetime import datetime\n",
    "\n",
    "print(\"Starting dataset creation...\")\n",
    "start_time = datetime.now()\n",
    "print(\"Started at--->\", start_time.strftime('%Y-%m-%d %H:%M:%S'))\n",
    "create_dataset()\n",
    "# End timer\n",
    "end_time = datetime.now()\n",
    "print(\"Finished time\", end_time.strftime('%Y-%m-%d %H:%M:%S'))\n",
    "\n",
    "# Print elapsed time\n",
    "print(f\"hey() completed in {end_time - start_time} seconds\")"
   ]
  }
 ],
 "metadata": {
  "kernelspec": {
   "display_name": "rohan12",
   "language": "python",
   "name": "python3"
  },
  "language_info": {
   "codemirror_mode": {
    "name": "ipython",
    "version": 3
   },
   "file_extension": ".py",
   "mimetype": "text/x-python",
   "name": "python",
   "nbconvert_exporter": "python",
   "pygments_lexer": "ipython3",
   "version": "3.12.2"
  }
 },
 "nbformat": 4,
 "nbformat_minor": 5
}
