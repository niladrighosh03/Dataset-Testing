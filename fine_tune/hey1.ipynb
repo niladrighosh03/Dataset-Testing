{
 "cells": [
  {
   "cell_type": "code",
   "execution_count": 2,
   "id": "2dbf2098",
   "metadata": {},
   "outputs": [
    {
     "data": {
      "application/vnd.jupyter.widget-view+json": {
       "model_id": "5c93f78024de4a94a3ae1998783f7712",
       "version_major": 2,
       "version_minor": 0
      },
      "text/plain": [
       "Loading checkpoint shards:   0%|          | 0/4 [00:00<?, ?it/s]"
      ]
     },
     "metadata": {},
     "output_type": "display_data"
    }
   ],
   "source": [
    "import pandas as pd\n",
    "from transformers import AutoTokenizer\n",
    "import io\n",
    "\n",
    "from transformers import AutoModelForCausalLM, AutoTokenizer\n",
    "\n",
    "model_name = \"/scratch/rohank__iitp/qwen2_5_7b_instruct\"\n",
    "\n",
    "model = AutoModelForCausalLM.from_pretrained(\n",
    "    model_name,\n",
    "    torch_dtype=\"auto\",\n",
    "    device_map=\"auto\"\n",
    ")\n",
    "tokenizer = AutoTokenizer.from_pretrained(model_name)\n"
   ]
  },
  {
   "cell_type": "code",
   "execution_count": 6,
   "id": "4604d69d",
   "metadata": {},
   "outputs": [
    {
     "name": "stdout",
     "output_type": "stream",
     "text": [
      "<|im_start|>system\n",
      "Give correct answers.<|im_end|>\n",
      "<|im_start|>user\n",
      "Who is Hrithik Roshan and some of his films?<|im_end|>\n",
      "<|im_start|>assistant\n",
      "Who is Hrithik Roshan and some of his films?<|im_end|>\n",
      "\n"
     ]
    }
   ],
   "source": [
    "\n",
    "prompt = \"Who is Hrithik Roshan and some of his films?\"\n",
    "messages = [\n",
    "    {\"role\": \"system\", \"content\": \"Give correct answers.\"},\n",
    "    {\"role\": \"user\", \"content\": prompt},\n",
    "    {\"role\": \"assistant\", \"content\": prompt}\n",
    "]\n",
    "text = tokenizer.apply_chat_template(\n",
    "    messages,\n",
    "    tokenize=False,\n",
    "    add_generation_prompt=False\n",
    ")\n",
    "\n",
    "print(text)"
   ]
  },
  {
   "cell_type": "code",
   "execution_count": 8,
   "id": "2bf05790",
   "metadata": {},
   "outputs": [
    {
     "name": "stdout",
     "output_type": "stream",
     "text": [
      "Processing complete. The output has been saved\n",
      "\n",
      "First 5 rows of the output file:\n",
      "   id  conversation_id  turn_no speaker                                                                                                                                                                                                                                                                                      utterance                                                                                                                                                                                                                                                                                                                                                                                                                                                                                                                                                                                                                                                                                                                                                                                                                                        history                                                                                                                                                                                                                                                                                                                                                                                                                                                                                                                                                                                                                                                                                                                                                                                                                                                                                                                                                                                                         chat_template\n",
      "0   1                1        1    User                                                                                                                                                                                                 Hi, I'm looking to get motor insurance for my new electric vehicle. It's a 2024 Tesla Model 3.                                                                                                                                                                                                                                                                                                                                                                                                                                                                                                                                                                                                                                                                                                       conversation history:\\ncurrent utterance: Hi, I'm looking to get motor insurance for my new electric vehicle. It's a 2024 Tesla Model 3.                                                                                                                                                                                                                                                                                                                                                                                                                                                                                                                                                                                                                                                                                                                                                                                                       <|im_start|>system\\nYou are an agent. Respond as an agent is answering.<|im_end|>\\n<|im_start|>user\\nHi, I'm looking to get motor insurance for my new electric vehicle. It's a 2024 Tesla Model 3.<|im_end|>\\n\n",
      "1   2                1        2   Agent                                                                                                     Great choice! The Tesla Model 3 is an excellent vehicle. Since you've opted for an EV, are you particularly interested in coverage specific to electric vehicles, like battery protection?                                                                                                                                                                                                                                                                                                                                                                                                                                                                                                     conversation history:\\nUser: Hi, I'm looking to get motor insurance for my new electric vehicle. It's a 2024 Tesla Model 3.\\ncurrent utterance: Great choice! The Tesla Model 3 is an excellent vehicle. Since you've opted for an EV, are you particularly interested in coverage specific to electric vehicles, like battery protection?                                                                                                                                                                                                                                                                                                                                                                                                                                                                                                                                                                          <|im_start|>system\\nYou are an agent. Respond as an agent is answering.<|im_end|>\\n<|im_start|>user\\nHi, I'm looking to get motor insurance for my new electric vehicle. It's a 2024 Tesla Model 3.<|im_end|>\\n<|im_start|>assistant\\nGreat choice! The Tesla Model 3 is an excellent vehicle. Since you've opted for an EV, are you particularly interested in coverage specific to electric vehicles, like battery protection?<|im_end|>\\n\n",
      "2   3                1        3    User                                                                                                                                                                                  Yes, battery protection is definitely a concern. It's a big investment, and I want to make sure it's covered.                                                                                                                                                                                                                                                                                                                                                                               conversation history:\\nUser: Hi, I'm looking to get motor insurance for my new electric vehicle. It's a 2024 Tesla Model 3.\\nAgent: Great choice! The Tesla Model 3 is an excellent vehicle. Since you've opted for an EV, are you particularly interested in coverage specific to electric vehicles, like battery protection?\\ncurrent utterance: Yes, battery protection is definitely a concern. It's a big investment, and I want to make sure it's covered.                                                                                                                                                                                                                                                                                                                                                                                                                               <|im_start|>system\\nYou are an agent. Respond as an agent is answering.<|im_end|>\\n<|im_start|>user\\nHi, I'm looking to get motor insurance for my new electric vehicle. It's a 2024 Tesla Model 3.<|im_end|>\\n<|im_start|>assistant\\nGreat choice! The Tesla Model 3 is an excellent vehicle. Since you've opted for an EV, are you particularly interested in coverage specific to electric vehicles, like battery protection?<|im_end|>\\n<|im_start|>user\\nYes, battery protection is definitely a concern. It's a big investment, and I want to make sure it's covered.<|im_end|>\\n\n",
      "3   4                1        4   Agent  Absolutely. The battery is the heart of your Tesla. With Tata AIG, you get rapid claims resolution combining thorough coverage with rapid claims resolution. It integrates technology with traditional risk management practices, ensuring that claims are processed quickly and effectively.                                                                          conversation history:\\nUser: Hi, I'm looking to get motor insurance for my new electric vehicle. It's a 2024 Tesla Model 3.\\nAgent: Great choice! The Tesla Model 3 is an excellent vehicle. Since you've opted for an EV, are you particularly interested in coverage specific to electric vehicles, like battery protection?\\nUser: Yes, battery protection is definitely a concern. It's a big investment, and I want to make sure it's covered.\\ncurrent utterance: Absolutely. The battery is the heart of your Tesla. With Tata AIG, you get rapid claims resolution combining thorough coverage with rapid claims resolution. It integrates technology with traditional risk management practices, ensuring that claims are processed quickly and effectively.                                                                                               <|im_start|>system\\nYou are an agent. Respond as an agent is answering.<|im_end|>\\n<|im_start|>user\\nHi, I'm looking to get motor insurance for my new electric vehicle. It's a 2024 Tesla Model 3.<|im_end|>\\n<|im_start|>assistant\\nGreat choice! The Tesla Model 3 is an excellent vehicle. Since you've opted for an EV, are you particularly interested in coverage specific to electric vehicles, like battery protection?<|im_end|>\\n<|im_start|>user\\nYes, battery protection is definitely a concern. It's a big investment, and I want to make sure it's covered.<|im_end|>\\n<|im_start|>assistant\\nAbsolutely. The battery is the heart of your Tesla. With Tata AIG, you get rapid claims resolution combining thorough coverage with rapid claims resolution. It integrates technology with traditional risk management practices, ensuring that claims are processed quickly and effectively.<|im_end|>\\n\n",
      "4   5                1        5    User                                                                                                                                                                                                                                What kind of coverage options do you have specifically for EVs?  conversation history:\\nUser: Hi, I'm looking to get motor insurance for my new electric vehicle. It's a 2024 Tesla Model 3.\\nAgent: Great choice! The Tesla Model 3 is an excellent vehicle. Since you've opted for an EV, are you particularly interested in coverage specific to electric vehicles, like battery protection?\\nUser: Yes, battery protection is definitely a concern. It's a big investment, and I want to make sure it's covered.\\nAgent: Absolutely. The battery is the heart of your Tesla. With Tata AIG, you get rapid claims resolution combining thorough coverage with rapid claims resolution. It integrates technology with traditional risk management practices, ensuring that claims are processed quickly and effectively.\\ncurrent utterance: What kind of coverage options do you have specifically for EVs?  <|im_start|>system\\nYou are an agent. Respond as an agent is answering.<|im_end|>\\n<|im_start|>user\\nHi, I'm looking to get motor insurance for my new electric vehicle. It's a 2024 Tesla Model 3.<|im_end|>\\n<|im_start|>assistant\\nGreat choice! The Tesla Model 3 is an excellent vehicle. Since you've opted for an EV, are you particularly interested in coverage specific to electric vehicles, like battery protection?<|im_end|>\\n<|im_start|>user\\nYes, battery protection is definitely a concern. It's a big investment, and I want to make sure it's covered.<|im_end|>\\n<|im_start|>assistant\\nAbsolutely. The battery is the heart of your Tesla. With Tata AIG, you get rapid claims resolution combining thorough coverage with rapid claims resolution. It integrates technology with traditional risk management practices, ensuring that claims are processed quickly and effectively.<|im_end|>\\n<|im_start|>user\\nWhat kind of coverage options do you have specifically for EVs?<|im_end|>\\n\n"
     ]
    }
   ],
   "source": [
    "\n",
    "df = pd.read_csv(\"/home/rohank__iitp/Work/niladri/fine_tune/conversation.csv\")\n",
    "\n",
    "# --- 2. Initialize the Tokenizer ---\n",
    "# You can replace \"mistralai/Mistral-7B-Instruct-v0.1\" with your desired model from Hugging Face.\n",
    "# This model is used here as an example because it has a well-defined chat template.\n",
    "# tokenizer = AutoTokenizer.from_pretrained(\"mistralai/Mistral-7B-Instruct-v0.1\")\n",
    "\n",
    "# --- 3. Process the data ---\n",
    "SYSTEM_PROMPT = \"You are an agent. Respond as an agent is answering.\"\n",
    "processed_data = []\n",
    "current_conversation_id = None\n",
    "messages = []\n",
    "\n",
    "# Iterate through each row of the DataFrame\n",
    "for index, row in df.iterrows():\n",
    "    conv_id = row['conversation_id']\n",
    "    speaker = row['speaker']\n",
    "    utterance = row['utterance']\n",
    "\n",
    "    # If the conversation_id changes, reset the message list with the system prompt\n",
    "    if conv_id != current_conversation_id:\n",
    "        current_conversation_id = conv_id\n",
    "        messages = [{\"role\": \"system\", \"content\": SYSTEM_PROMPT}]\n",
    "\n",
    "    # Map the 'speaker' column to the appropriate role ('user' or 'assistant')\n",
    "    role = \"user\" if speaker == \"User\" else \"assistant\"\n",
    "    \n",
    "    # Append the current message to the list\n",
    "    messages.append({\"role\": role, \"content\": utterance})\n",
    "\n",
    "    # Apply the chat template to the entire conversation history up to this point\n",
    "    try:\n",
    "        formatted_prompt = tokenizer.apply_chat_template(\n",
    "            messages,\n",
    "            tokenize=False,\n",
    "            add_generation_prompt=False\n",
    "        )\n",
    "    except Exception as e:\n",
    "        print(f\"Error applying template at row {index}: {e}\")\n",
    "        formatted_prompt = \"Error\"\n",
    "    \n",
    "    # Store the result by adding a new column to the row's data\n",
    "    new_row_data = row.to_dict()\n",
    "    new_row_data['chat_template'] = formatted_prompt\n",
    "    processed_data.append(new_row_data)\n",
    "\n",
    "# --- 4. Save the output to a new CSV file ---\n",
    "output_df = pd.DataFrame(processed_data)\n",
    "output_df.to_csv('/home/rohank__iitp/Work/niladri/fine_tune/tag_conversation.csv', index=False)\n",
    "\n",
    "print(\"Processing complete. The output has been saved\")\n",
    "print(\"\\nFirst 5 rows of the output file:\")\n",
    "print(output_df.head().to_string())"
   ]
  },
  {
   "cell_type": "markdown",
   "id": "2f0a2729",
   "metadata": {},
   "source": [
    "## For new dataset by Sir"
   ]
  },
  {
   "cell_type": "code",
   "execution_count": 13,
   "id": "cdbdeea7",
   "metadata": {},
   "outputs": [
    {
     "name": "stdout",
     "output_type": "stream",
     "text": [
      "Processing complete. The output has been saved to 'formatted_conversations_new_format.csv'\n",
      "\n",
      "First 5 rows of the output file:\n",
      "   conversation_id  turn_no speaker                                                                                                      utterance                                                                                                                                                                                                                                                                                                                                                              new_agent_reply                                                                                                                                                                                                                                                                                                                                                                                                                                                                                                                                                                                                                                                                                                                                                                                                                                                                                                                                                                                                                                                                                                                                                                                                                                                                                                                                                                                                                                                                                                                                                                                                                                                                                                                                                                                                                                                                                                                                                                                                                                                                                                                                                                            chat_template\n",
      "0                1        1    User                 Hi, I'm looking to get motor insurance for my new electric vehicle. It's a 2024 Tesla Model 3.                                                                                                                                           Welcome! I'm glad to help you with motor insurance for your new Tesla Model 3. Our policies offer comprehensive coverage for electric vehicles, including battery protection. Let's discuss the options that best suit your needs.                                                                                                                                                                                                                                                                                                                                                                                                                                                                                                                                                                                                                                                                                                                                                                                                                                                                                                                                                                                                                                                                                                                                                                                                                                                                                                                                                                                                                                                                                                                                                                                                                                                                                                    <|im_start|>system\\nYou are an agent. Respond as an agent is answering.<|im_end|>\\n<|im_start|>user\\nHi, I'm looking to get motor insurance for my new electric vehicle. It's a 2024 Tesla Model 3.<|im_end|>\\n<|im_start|>assistant\\n Welcome! I'm glad to help you with motor insurance for your new Tesla Model 3. Our policies offer comprehensive coverage for electric vehicles, including battery protection. Let's discuss the options that best suit your needs.<|im_end|>\\n\n",
      "1                1        3    User  Yes, battery protection is definitely a concern. It's a big investment, and I want to make sure it's covered.                                                                                            I completely understand your concern about battery protection for your Tesla Model 3. Our policies are designed to provide you with peace of mind, ensuring that your investment is well-protected. Let's explore the coverage options that include battery protection in detail.                                                                                                                                                                                                                                                                                                                                                                                                                                                                                                                                                                                                                                                                                                                                                                                                                                                                                                                                                                                                                                                                                                                                                                                                                                    <|im_start|>system\\nYou are an agent. Respond as an agent is answering.<|im_end|>\\n<|im_start|>user\\nHi, I'm looking to get motor insurance for my new electric vehicle. It's a 2024 Tesla Model 3.<|im_end|>\\n<|im_start|>assistant\\n Welcome! I'm glad to help you with motor insurance for your new Tesla Model 3. Our policies offer comprehensive coverage for electric vehicles, including battery protection. Let's discuss the options that best suit your needs.<|im_end|>\\n<|im_start|>user\\nYes, battery protection is definitely a concern. It's a big investment, and I want to make sure it's covered.<|im_end|>\\n<|im_start|>assistant\\n I completely understand your concern about battery protection for your Tesla Model 3. Our policies are designed to provide you with peace of mind, ensuring that your investment is well-protected. Let's explore the coverage options that include battery protection in detail.<|im_end|>\\n\n",
      "2                1        5    User                                                What kind of coverage options do you have specifically for EVs?                                                                                                                                                                           We offer comprehensive coverage options tailored for electric vehicles, including battery protection. Let's discuss the specifics of these options to ensure your Tesla Model 3 is well-protected.                                                                                                                                                                                                                                                                                                                                                                                                                                                                                                                                                                                                                                                                                                                                                                                                                                                                                                 <|im_start|>system\\nYou are an agent. Respond as an agent is answering.<|im_end|>\\n<|im_start|>user\\nHi, I'm looking to get motor insurance for my new electric vehicle. It's a 2024 Tesla Model 3.<|im_end|>\\n<|im_start|>assistant\\n Welcome! I'm glad to help you with motor insurance for your new Tesla Model 3. Our policies offer comprehensive coverage for electric vehicles, including battery protection. Let's discuss the options that best suit your needs.<|im_end|>\\n<|im_start|>user\\nYes, battery protection is definitely a concern. It's a big investment, and I want to make sure it's covered.<|im_end|>\\n<|im_start|>assistant\\n I completely understand your concern about battery protection for your Tesla Model 3. Our policies are designed to provide you with peace of mind, ensuring that your investment is well-protected. Let's explore the coverage options that include battery protection in detail.<|im_end|>\\n<|im_start|>user\\nWhat kind of coverage options do you have specifically for EVs?<|im_end|>\\n<|im_start|>assistant\\n We offer comprehensive coverage options tailored for electric vehicles, including battery protection. Let's discuss the specifics of these options to ensure your Tesla Model 3 is well-protected.<|im_end|>\\n\n",
      "3                1        7    User                                                        Okay, that sounds pretty good. Can you give me a quote?                                                                                                                              Of course! I'd be happy to provide a personalized insurance quote for your Tesla Model 3. To ensure the most accurate quote, I'll need a few details such as your location, driving history, and the desired coverage level. Let's get started!                                                                                                                                                                                                                                                                                                                                                                                                                                                                                                                         <|im_start|>system\\nYou are an agent. Respond as an agent is answering.<|im_end|>\\n<|im_start|>user\\nHi, I'm looking to get motor insurance for my new electric vehicle. It's a 2024 Tesla Model 3.<|im_end|>\\n<|im_start|>assistant\\n Welcome! I'm glad to help you with motor insurance for your new Tesla Model 3. Our policies offer comprehensive coverage for electric vehicles, including battery protection. Let's discuss the options that best suit your needs.<|im_end|>\\n<|im_start|>user\\nYes, battery protection is definitely a concern. It's a big investment, and I want to make sure it's covered.<|im_end|>\\n<|im_start|>assistant\\n I completely understand your concern about battery protection for your Tesla Model 3. Our policies are designed to provide you with peace of mind, ensuring that your investment is well-protected. Let's explore the coverage options that include battery protection in detail.<|im_end|>\\n<|im_start|>user\\nWhat kind of coverage options do you have specifically for EVs?<|im_end|>\\n<|im_start|>assistant\\n We offer comprehensive coverage options tailored for electric vehicles, including battery protection. Let's discuss the specifics of these options to ensure your Tesla Model 3 is well-protected.<|im_end|>\\n<|im_start|>user\\nOkay, that sounds pretty good. Can you give me a quote?<|im_end|>\\n<|im_start|>assistant\\n Of course! I'd be happy to provide a personalized insurance quote for your Tesla Model 3. To ensure the most accurate quote, I'll need a few details such as your location, driving history, and the desired coverage level. Let's get started!<|im_end|>\\n\n",
      "4                1        9    User                                    That's within my budget. What's the claim process like if I need to use it?   Our claim process is designed to be straightforward and efficient. In the unfortunate event that you need to make a claim, you can easily do so through our user-friendly online platform or by contacting our dedicated claims team. We prioritize prompt resolution to minimize any inconvenience to you. Rest assured, we're here to support you every step of the way.  <|im_start|>system\\nYou are an agent. Respond as an agent is answering.<|im_end|>\\n<|im_start|>user\\nHi, I'm looking to get motor insurance for my new electric vehicle. It's a 2024 Tesla Model 3.<|im_end|>\\n<|im_start|>assistant\\n Welcome! I'm glad to help you with motor insurance for your new Tesla Model 3. Our policies offer comprehensive coverage for electric vehicles, including battery protection. Let's discuss the options that best suit your needs.<|im_end|>\\n<|im_start|>user\\nYes, battery protection is definitely a concern. It's a big investment, and I want to make sure it's covered.<|im_end|>\\n<|im_start|>assistant\\n I completely understand your concern about battery protection for your Tesla Model 3. Our policies are designed to provide you with peace of mind, ensuring that your investment is well-protected. Let's explore the coverage options that include battery protection in detail.<|im_end|>\\n<|im_start|>user\\nWhat kind of coverage options do you have specifically for EVs?<|im_end|>\\n<|im_start|>assistant\\n We offer comprehensive coverage options tailored for electric vehicles, including battery protection. Let's discuss the specifics of these options to ensure your Tesla Model 3 is well-protected.<|im_end|>\\n<|im_start|>user\\nOkay, that sounds pretty good. Can you give me a quote?<|im_end|>\\n<|im_start|>assistant\\n Of course! I'd be happy to provide a personalized insurance quote for your Tesla Model 3. To ensure the most accurate quote, I'll need a few details such as your location, driving history, and the desired coverage level. Let's get started!<|im_end|>\\n<|im_start|>user\\nThat's within my budget. What's the claim process like if I need to use it?<|im_end|>\\n<|im_start|>assistant\\n Our claim process is designed to be straightforward and efficient. In the unfortunate event that you need to make a claim, you can easily do so through our user-friendly online platform or by contacting our dedicated claims team. We prioritize prompt resolution to minimize any inconvenience to you. Rest assured, we're here to support you every step of the way.<|im_end|>\\n\n"
     ]
    }
   ],
   "source": [
    "df = pd.read_csv(\"/home/rohank__iitp/Work/niladri/fine_tune/Final_mistral_dataset.csv\")\n",
    "\n",
    "# --- 2. Initialize the Tokenizer ---\n",
    "# You can replace \"mistralai/Mistral-7B-Instruct-v0.1\" with your desired model from Hugging Face.\n",
    "\n",
    "# --- 3. Process the data ---\n",
    "SYSTEM_PROMPT = \"You are an agent. Respond as an agent is answering.\"\n",
    "processed_data = []\n",
    "current_conversation_id = None\n",
    "messages = []\n",
    "\n",
    "# Iterate through each row of the DataFrame\n",
    "for index, row in df.iterrows():\n",
    "    conv_id = row['conversation_id']\n",
    "    user_utterance = row['utterance']\n",
    "    agent_reply = row['new_agent_reply']\n",
    "\n",
    "    # If the conversation_id changes, reset the message list with the system prompt\n",
    "    if conv_id != current_conversation_id:\n",
    "        current_conversation_id = conv_id\n",
    "        messages = [{\"role\": \"system\", \"content\": SYSTEM_PROMPT}]\n",
    "\n",
    "    # In this new format, each row contains a user utterance and an agent reply.\n",
    "    # We add both to the messages list for each row.\n",
    "    \n",
    "    # Add the user's message\n",
    "    messages.append({\"role\": \"user\", \"content\": user_utterance})\n",
    "    \n",
    "    # Add the agent's reply\n",
    "    messages.append({\"role\": \"assistant\", \"content\": agent_reply})\n",
    "\n",
    "    # Apply the chat template to the entire conversation history up to this point\n",
    "    try:\n",
    "        formatted_prompt = tokenizer.apply_chat_template(\n",
    "            messages,\n",
    "            tokenize=False,\n",
    "            add_generation_prompt=False\n",
    "        )\n",
    "    except Exception as e:\n",
    "        print(f\"Error applying template at row {index}: {e}\")\n",
    "        formatted_prompt = \"Error\"\n",
    "    \n",
    "    # Store the result by adding a new column to the row's data\n",
    "    new_row_data = row.to_dict()\n",
    "    new_row_data['chat_template'] = formatted_prompt\n",
    "    processed_data.append(new_row_data)\n",
    "\n",
    "# --- 4. Save the output to a new CSV file ---\n",
    "output_df = pd.DataFrame(processed_data)\n",
    "output_df.to_csv('/home/rohank__iitp/Work/niladri/fine_tune/new_dataset_conversation.csv', index=False)\n",
    "\n",
    "print(\"Processing complete. The output has been saved to 'formatted_conversations_new_format.csv'\")\n",
    "print(\"\\nFirst 5 rows of the output file:\")\n",
    "print(output_df.head().to_string())"
   ]
  }
 ],
 "metadata": {
  "kernelspec": {
   "display_name": "Python 3 (ipykernel)",
   "language": "python",
   "name": "python3"
  },
  "language_info": {
   "codemirror_mode": {
    "name": "ipython",
    "version": 3
   },
   "file_extension": ".py",
   "mimetype": "text/x-python",
   "name": "python",
   "nbconvert_exporter": "python",
   "pygments_lexer": "ipython3",
   "version": "3.12.2"
  }
 },
 "nbformat": 4,
 "nbformat_minor": 5
}
