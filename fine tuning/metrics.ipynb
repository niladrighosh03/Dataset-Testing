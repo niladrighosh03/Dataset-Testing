{
 "cells": [
  {
   "cell_type": "markdown",
   "id": "262f44b6",
   "metadata": {},
   "source": [
    "### Calculate the metrics"
   ]
  },
  {
   "cell_type": "code",
   "execution_count": 21,
   "id": "33d04af5",
   "metadata": {},
   "outputs": [
    {
     "name": "stdout",
     "output_type": "stream",
     "text": [
      "Mean of PPL: 93.683\n",
      "Mean of BLEU-2: 0.046\n",
      "Mean of BERTScore-F1: 0.496\n",
      "Mean of Distinct-2: 0.965\n",
      "Mean of ROUGE-1: 0.197\n"
     ]
    }
   ],
   "source": [
    "import pandas as pd\n",
    "\n",
    "# Load the CSV file \n",
    "path= '/home/rohank__iitp/Work/niladri/model/evaluation/Comparision_Pipeline_deal.csv'\n",
    "df = pd.read_csv(path)  # Replace with your actual file name\n",
    "# df=df[df['conversation_id'] <= 1645]\n",
    "# Specify the columns of interest\n",
    "columns_to_average = ['PPL', 'BLEU-2', 'BERTScore-F1', 'Distinct-2', 'ROUGE-1']\n",
    "\n",
    "# Calculate and print the mean of each column, rounded to 3 decimal places\n",
    "for col in columns_to_average:\n",
    "    mean_value = df[col].mean()\n",
    "    print(f\"Mean of {col}: {mean_value:.3f}\")"
   ]
  }
 ],
 "metadata": {
  "kernelspec": {
   "display_name": "rohan12",
   "language": "python",
   "name": "python3"
  },
  "language_info": {
   "codemirror_mode": {
    "name": "ipython",
    "version": 3
   },
   "file_extension": ".py",
   "mimetype": "text/x-python",
   "name": "python",
   "nbconvert_exporter": "python",
   "pygments_lexer": "ipython3",
   "version": "3.12.2"
  }
 },
 "nbformat": 4,
 "nbformat_minor": 5
}
